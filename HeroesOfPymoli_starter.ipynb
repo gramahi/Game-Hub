{
 "cells": [
  {
   "cell_type": "markdown",
   "metadata": {},
   "source": [
    "### Note\n",
    "* Instructions have been included for each segment. You do not have to follow them exactly, but they are included to help you think through the steps."
   ]
  },
  {
   "cell_type": "code",
   "execution_count": 81,
   "metadata": {},
   "outputs": [],
   "source": [
    "# Dependencies and Setup\n",
    "import pandas as pd\n",
    "import numpy as np\n",
    "\n",
    "# File to Load (Remember to Change These)\n",
    "file_to_load = \"Resources/purchase_data.csv\"\n",
    "\n",
    "# Read Purchasing File and store into Pandas data frame\n",
    "purchase_data = pd.read_csv(file_to_load)"
   ]
  },
  {
   "cell_type": "markdown",
   "metadata": {},
   "source": [
    "## Player Count"
   ]
  },
  {
   "cell_type": "markdown",
   "metadata": {},
   "source": [
    "* Display the total number of players\n"
   ]
  },
  {
   "cell_type": "code",
   "execution_count": 82,
   "metadata": {},
   "outputs": [
    {
     "name": "stdout",
     "output_type": "stream",
     "text": [
      "Total number of players = 576\n"
     ]
    }
   ],
   "source": [
    "#Utilize the length of the list 'SN' in regards to Total_Num_of_Players\n",
    "Total_Num_of_Players = len(purchase_data[\"SN\"].value_counts())\n",
    "\n",
    "#Print The following Statement\n",
    "print(f\"Total number of players = {Total_Num_of_Players}\")"
   ]
  },
  {
   "cell_type": "markdown",
   "metadata": {},
   "source": [
    "## Purchasing Analysis (Total)"
   ]
  },
  {
   "cell_type": "markdown",
   "metadata": {},
   "source": [
    "* Run basic calculations to obtain number of unique items, average price, etc.\n",
    "\n",
    "\n",
    "* Create a summary data frame to hold the results\n",
    "\n",
    "\n",
    "* Optional: give the displayed data cleaner formatting\n",
    "\n",
    "\n",
    "* Display the summary data frame\n"
   ]
  },
  {
   "cell_type": "code",
   "execution_count": 83,
   "metadata": {
    "scrolled": true
   },
   "outputs": [
    {
     "data": {
      "text/html": [
       "<style  type=\"text/css\" >\n",
       "</style><table id=\"T_6f02cc7e_c3bc_11e9_bc03_086d41d78b2e\" ><thead>    <tr>        <th class=\"blank level0\" ></th>        <th class=\"col_heading level0 col0\" >Number of Unique Items</th>        <th class=\"col_heading level0 col1\" >Average Price</th>        <th class=\"col_heading level0 col2\" >Number of purchase</th>        <th class=\"col_heading level0 col3\" >Total Revenue</th>    </tr></thead><tbody>\n",
       "                <tr>\n",
       "                        <th id=\"T_6f02cc7e_c3bc_11e9_bc03_086d41d78b2elevel0_row0\" class=\"row_heading level0 row0\" >0</th>\n",
       "                        <td id=\"T_6f02cc7e_c3bc_11e9_bc03_086d41d78b2erow0_col0\" class=\"data row0 col0\" >183</td>\n",
       "                        <td id=\"T_6f02cc7e_c3bc_11e9_bc03_086d41d78b2erow0_col1\" class=\"data row0 col1\" >3.05</td>\n",
       "                        <td id=\"T_6f02cc7e_c3bc_11e9_bc03_086d41d78b2erow0_col2\" class=\"data row0 col2\" >780</td>\n",
       "                        <td id=\"T_6f02cc7e_c3bc_11e9_bc03_086d41d78b2erow0_col3\" class=\"data row0 col3\" >2379.77</td>\n",
       "            </tr>\n",
       "    </tbody></table>"
      ],
      "text/plain": [
       "<pandas.io.formats.style.Styler at 0x118f6d0f0>"
      ]
     },
     "execution_count": 83,
     "metadata": {},
     "output_type": "execute_result"
    }
   ],
   "source": [
    "#Calculations for Number of Unique Items, Total Revnue, Number of Purchases & Average Price\n",
    "Item_Number = len(purchase_data[\"Item ID\"].value_counts())\n",
    "Average_Price = round(purchase_data[\"Price\"].mean(), 2)\n",
    "No_Purchase = purchase_data.shape[0]\n",
    "Total_Revenue = purchase_data[\"Price\"].sum()\n",
    "Gen_List = [Item_Number, Average_Price, No_Purchase, Total_Revenue]\n",
    "\n",
    "#Create a Data Frame with the results of the prior performed Calculations\n",
    "Gen_df = pd.DataFrame(data=[Gen_List])\n",
    "Gen_df.columns = [\"Number of Unique Items\", \"Average Price\", \"Number of purchase\", \"Total Revenue\"]\n",
    "Gen_df.style"
   ]
  },
  {
   "cell_type": "markdown",
   "metadata": {},
   "source": [
    "## Gender Demographics"
   ]
  },
  {
   "cell_type": "markdown",
   "metadata": {},
   "source": [
    "* Percentage and Count of Male Players\n",
    "\n",
    "\n",
    "* Percentage and Count of Female Players\n",
    "\n",
    "\n",
    "* Percentage and Count of Other / Non-Disclosed\n",
    "\n",
    "\n"
   ]
  },
  {
   "cell_type": "code",
   "execution_count": 84,
   "metadata": {},
   "outputs": [
    {
     "data": {
      "text/html": [
       "<style  type=\"text/css\" >\n",
       "</style><table id=\"T_6f75bfa4_c3bc_11e9_a285_086d41d78b2e\" ><thead>    <tr>        <th class=\"blank level0\" ></th>        <th class=\"col_heading level0 col0\" >Total Count</th>        <th class=\"col_heading level0 col1\" >Percentage</th>    </tr>    <tr>        <th class=\"index_name level0\" >Gender</th>        <th class=\"blank\" ></th>        <th class=\"blank\" ></th>    </tr></thead><tbody>\n",
       "                <tr>\n",
       "                        <th id=\"T_6f75bfa4_c3bc_11e9_a285_086d41d78b2elevel0_row0\" class=\"row_heading level0 row0\" >Female</th>\n",
       "                        <td id=\"T_6f75bfa4_c3bc_11e9_a285_086d41d78b2erow0_col0\" class=\"data row0 col0\" >81</td>\n",
       "                        <td id=\"T_6f75bfa4_c3bc_11e9_a285_086d41d78b2erow0_col1\" class=\"data row0 col1\" >14.06</td>\n",
       "            </tr>\n",
       "            <tr>\n",
       "                        <th id=\"T_6f75bfa4_c3bc_11e9_a285_086d41d78b2elevel0_row1\" class=\"row_heading level0 row1\" >Male</th>\n",
       "                        <td id=\"T_6f75bfa4_c3bc_11e9_a285_086d41d78b2erow1_col0\" class=\"data row1 col0\" >484</td>\n",
       "                        <td id=\"T_6f75bfa4_c3bc_11e9_a285_086d41d78b2erow1_col1\" class=\"data row1 col1\" >84.03</td>\n",
       "            </tr>\n",
       "            <tr>\n",
       "                        <th id=\"T_6f75bfa4_c3bc_11e9_a285_086d41d78b2elevel0_row2\" class=\"row_heading level0 row2\" >Other / Non-Disclosed</th>\n",
       "                        <td id=\"T_6f75bfa4_c3bc_11e9_a285_086d41d78b2erow2_col0\" class=\"data row2 col0\" >11</td>\n",
       "                        <td id=\"T_6f75bfa4_c3bc_11e9_a285_086d41d78b2erow2_col1\" class=\"data row2 col1\" >1.91</td>\n",
       "            </tr>\n",
       "    </tbody></table>"
      ],
      "text/plain": [
       "<pandas.io.formats.style.Styler at 0x118ca84a8>"
      ]
     },
     "execution_count": 84,
     "metadata": {},
     "output_type": "execute_result"
    }
   ],
   "source": [
    "#Group by Gender using purchase Data & count the screen names 'SN' according to Gender\n",
    "Gender_Count = purchase_data.groupby('Gender')['SN'].nunique()\n",
    "\n",
    "#Calculate the percent of each categorized Gender using the Gender count and divide by Total Number of Players\n",
    "Gender_Percent = round(Gender_Count / Gender_Count.sum() * 100, 2)\n",
    "Gender_df = pd.concat ([Gender_Count, Gender_Percent], axis=1)\n",
    "\n",
    "#Designing our new Data Frame\n",
    "Gender_df.columns = [\"Total Count\", \"Percentage\"]\n",
    "Gender_df.style"
   ]
  },
  {
   "cell_type": "markdown",
   "metadata": {},
   "source": [
    "\n",
    "## Purchasing Analysis (Gender)"
   ]
  },
  {
   "cell_type": "markdown",
   "metadata": {},
   "source": [
    "* Run basic calculations to obtain purchase count, avg. purchase price, avg. purchase total per person etc. by gender\n",
    "\n",
    "\n",
    "\n",
    "\n",
    "* Create a summary data frame to hold the results\n",
    "\n",
    "\n",
    "* Optional: give the displayed data cleaner formatting\n",
    "\n",
    "\n",
    "* Display the summary data frame"
   ]
  },
  {
   "cell_type": "code",
   "execution_count": 85,
   "metadata": {},
   "outputs": [
    {
     "name": "stderr",
     "output_type": "stream",
     "text": [
      "/anaconda3/envs/PythonData/lib/python3.6/site-packages/ipykernel_launcher.py:18: UserWarning: Pandas doesn't allow columns to be created via a new attribute name - see https://pandas.pydata.org/pandas-docs/stable/indexing.html#attribute-access\n"
     ]
    },
    {
     "data": {
      "text/html": [
       "<div>\n",
       "<style scoped>\n",
       "    .dataframe tbody tr th:only-of-type {\n",
       "        vertical-align: middle;\n",
       "    }\n",
       "\n",
       "    .dataframe tbody tr th {\n",
       "        vertical-align: top;\n",
       "    }\n",
       "\n",
       "    .dataframe thead th {\n",
       "        text-align: right;\n",
       "    }\n",
       "</style>\n",
       "<table border=\"1\" class=\"dataframe\">\n",
       "  <thead>\n",
       "    <tr style=\"text-align: right;\">\n",
       "      <th></th>\n",
       "      <th>Gender</th>\n",
       "      <th>Price</th>\n",
       "      <th>Price</th>\n",
       "      <th>0</th>\n",
       "    </tr>\n",
       "  </thead>\n",
       "  <tbody>\n",
       "    <tr>\n",
       "      <th>Male</th>\n",
       "      <td>652</td>\n",
       "      <td>$3.02</td>\n",
       "      <td>$1967.64</td>\n",
       "      <td>$4.07</td>\n",
       "    </tr>\n",
       "    <tr>\n",
       "      <th>Female</th>\n",
       "      <td>113</td>\n",
       "      <td>$3.2</td>\n",
       "      <td>$361.94</td>\n",
       "      <td>$4.47</td>\n",
       "    </tr>\n",
       "    <tr>\n",
       "      <th>Other / Non-Disclosed</th>\n",
       "      <td>15</td>\n",
       "      <td>$3.35</td>\n",
       "      <td>$50.19</td>\n",
       "      <td>$4.56</td>\n",
       "    </tr>\n",
       "  </tbody>\n",
       "</table>\n",
       "</div>"
      ],
      "text/plain": [
       "                       Gender  Price     Price      0\n",
       "Male                      652  $3.02  $1967.64  $4.07\n",
       "Female                    113   $3.2   $361.94  $4.47\n",
       "Other / Non-Disclosed      15  $3.35    $50.19  $4.56"
      ]
     },
     "execution_count": 85,
     "metadata": {},
     "output_type": "execute_result"
    }
   ],
   "source": [
    "#Count the number of Purchased Items in regards to Gender\n",
    "Purchase_Count = purchase_data.Gender.value_counts()\n",
    "\n",
    "#Average the Purchase Price by Gender\n",
    "Average_Purchase_Price = round(purchase_data.groupby(\"Gender\")[\"Price\"].mean(), 2)\n",
    "Average_Purchase_Price = '$' + Average_Purchase_Price.astype(str)\n",
    "\n",
    "#Average Total Purchase by Gender\n",
    "Total_Purchase_Value = round(purchase_data.groupby(\"Gender\")[\"Price\"].sum(), 2)\n",
    "\n",
    "# Average purchase total by gender divivded by purchase count by unique shoppers\n",
    "Average_Purchase_Total = round(Total_Purchase_Value / Gender_Count, 2)\n",
    "Total_Purchase_Value = '$' + Total_Purchase_Value.astype(str)\n",
    "Average_Purchase_Total = '$' + Average_Purchase_Total.astype(str)\n",
    "\n",
    "#Create & Formate Data Frame\n",
    "Purchase_df = pd.concat([Purchase_Count, Average_Purchase_Price, Total_Purchase_Value, Average_Purchase_Total], axis=1, sort=False)\n",
    "Purchase_df.column = [\"Purchase Count\", \"Average Purchase Price\", \"Total Purchase Value\", \"Average Total Purchase Per Person\"]\n",
    "\n",
    "Purchase_df.head()"
   ]
  },
  {
   "cell_type": "markdown",
   "metadata": {},
   "source": [
    "## Age Demographics"
   ]
  },
  {
   "cell_type": "markdown",
   "metadata": {},
   "source": [
    "* Establish bins for ages\n",
    "\n",
    "\n",
    "* Categorize the existing players using the age bins. Hint: use pd.cut()\n",
    "\n",
    "\n",
    "* Calculate the numbers and percentages by age group\n",
    "\n",
    "\n",
    "* Create a summary data frame to hold the results\n",
    "\n",
    "\n",
    "* Optional: round the percentage column to two decimal points\n",
    "\n",
    "\n",
    "* Display Age Demographics Table\n"
   ]
  },
  {
   "cell_type": "code",
   "execution_count": 86,
   "metadata": {},
   "outputs": [
    {
     "data": {
      "text/html": [
       "<div>\n",
       "<style scoped>\n",
       "    .dataframe tbody tr th:only-of-type {\n",
       "        vertical-align: middle;\n",
       "    }\n",
       "\n",
       "    .dataframe tbody tr th {\n",
       "        vertical-align: top;\n",
       "    }\n",
       "\n",
       "    .dataframe thead th {\n",
       "        text-align: right;\n",
       "    }\n",
       "</style>\n",
       "<table border=\"1\" class=\"dataframe\">\n",
       "  <thead>\n",
       "    <tr style=\"text-align: right;\">\n",
       "      <th></th>\n",
       "      <th>Total Number</th>\n",
       "      <th>Percentage</th>\n",
       "    </tr>\n",
       "  </thead>\n",
       "  <tbody>\n",
       "    <tr>\n",
       "      <th>&lt;10</th>\n",
       "      <td>15</td>\n",
       "      <td>2.72</td>\n",
       "    </tr>\n",
       "    <tr>\n",
       "      <th>10-14</th>\n",
       "      <td>107</td>\n",
       "      <td>19.38</td>\n",
       "    </tr>\n",
       "    <tr>\n",
       "      <th>15-19</th>\n",
       "      <td>258</td>\n",
       "      <td>46.74</td>\n",
       "    </tr>\n",
       "    <tr>\n",
       "      <th>20-24</th>\n",
       "      <td>77</td>\n",
       "      <td>13.95</td>\n",
       "    </tr>\n",
       "    <tr>\n",
       "      <th>25-29</th>\n",
       "      <td>52</td>\n",
       "      <td>9.42</td>\n",
       "    </tr>\n",
       "  </tbody>\n",
       "</table>\n",
       "</div>"
      ],
      "text/plain": [
       "       Total Number  Percentage\n",
       "<10              15        2.72\n",
       "10-14           107       19.38\n",
       "15-19           258       46.74\n",
       "20-24            77       13.95\n",
       "25-29            52        9.42"
      ]
     },
     "execution_count": 86,
     "metadata": {},
     "output_type": "execute_result"
    }
   ],
   "source": [
    "#Creating Categories for Ages  Age Group \n",
    "Ages = [10, 14, 19, 24, 29, 34, 39, 40, 1000]\n",
    "Group_Names = [\"<10\", \"10-14\", \"15-19\", \"20-24\", \"25-29\", \"30-34\", \"35-39\", \"40+\"]\n",
    "\n",
    "#Segment and Sort Age walues into the created categories\n",
    "Age_Series = pd.cut(purchase_data.groupby(\"SN\")[\"Age\"].mean(), Ages, labels=Group_Names).value_counts()\n",
    "\n",
    "#Calculate the percentages of each age category\n",
    "Age_Percent = round(Age_Series / Age_Series.sum() * 100, 2)\n",
    "Age_df = pd.concat([Age_Series, Age_Percent], axis=1, sort=True)\n",
    "Age_df.columns = [\"Total Number\", \"Percentage\"]\n",
    "Age_df.head()\n"
   ]
  },
  {
   "cell_type": "markdown",
   "metadata": {},
   "source": [
    "## Purchasing Analysis (Age)"
   ]
  },
  {
   "cell_type": "markdown",
   "metadata": {},
   "source": [
    "* Bin the purchase_data data frame by age\n",
    "\n",
    "\n",
    "* Run basic calculations to obtain purchase count, avg. purchase price, avg. purchase total per person etc. in the table below\n",
    "\n",
    "\n",
    "* Create a summary data frame to hold the results\n",
    "\n",
    "\n",
    "* Optional: give the displayed data cleaner formatting\n",
    "\n",
    "\n",
    "* Display the summary data frame"
   ]
  },
  {
   "cell_type": "code",
   "execution_count": 87,
   "metadata": {},
   "outputs": [
    {
     "data": {
      "text/html": [
       "<div>\n",
       "<style scoped>\n",
       "    .dataframe tbody tr th:only-of-type {\n",
       "        vertical-align: middle;\n",
       "    }\n",
       "\n",
       "    .dataframe tbody tr th {\n",
       "        vertical-align: top;\n",
       "    }\n",
       "\n",
       "    .dataframe thead th {\n",
       "        text-align: right;\n",
       "    }\n",
       "</style>\n",
       "<table border=\"1\" class=\"dataframe\">\n",
       "  <thead>\n",
       "    <tr style=\"text-align: right;\">\n",
       "      <th></th>\n",
       "      <th>Purchase Count</th>\n",
       "      <th>Average Purchase Price</th>\n",
       "      <th>Total Purchase Value</th>\n",
       "    </tr>\n",
       "    <tr>\n",
       "      <th>Age Range</th>\n",
       "      <th></th>\n",
       "      <th></th>\n",
       "      <th></th>\n",
       "    </tr>\n",
       "  </thead>\n",
       "  <tbody>\n",
       "    <tr>\n",
       "      <th>&lt;10</th>\n",
       "      <td>748</td>\n",
       "      <td>$3.4</td>\n",
       "      <td>$50.95</td>\n",
       "    </tr>\n",
       "    <tr>\n",
       "      <th>10-14</th>\n",
       "      <td>748</td>\n",
       "      <td>$3.86</td>\n",
       "      <td>$412.89</td>\n",
       "    </tr>\n",
       "    <tr>\n",
       "      <th>15-19</th>\n",
       "      <td>748</td>\n",
       "      <td>$4.32</td>\n",
       "      <td>$1114.06</td>\n",
       "    </tr>\n",
       "    <tr>\n",
       "      <th>20-24</th>\n",
       "      <td>748</td>\n",
       "      <td>$3.81</td>\n",
       "      <td>$293.0</td>\n",
       "    </tr>\n",
       "    <tr>\n",
       "      <th>25-29</th>\n",
       "      <td>748</td>\n",
       "      <td>$4.12</td>\n",
       "      <td>$214.0</td>\n",
       "    </tr>\n",
       "  </tbody>\n",
       "</table>\n",
       "</div>"
      ],
      "text/plain": [
       "           Purchase Count Average Purchase Price Total Purchase Value\n",
       "Age Range                                                            \n",
       "<10                   748                   $3.4               $50.95\n",
       "10-14                 748                  $3.86              $412.89\n",
       "15-19                 748                  $4.32             $1114.06\n",
       "20-24                 748                  $3.81               $293.0\n",
       "25-29                 748                  $4.12               $214.0"
      ]
     },
     "execution_count": 87,
     "metadata": {},
     "output_type": "execute_result"
    }
   ],
   "source": [
    "#Formed Categories for Ages & Age Groups\n",
    "Ages = [10, 14, 19, 24, 29, 34, 39, 40, 1000]\n",
    "Group_Names = [\"<10\", \"10-14\", \"15-19\", \"20-24\", \"25-29\", \"30-34\", \"35-39\", \"40+\"]\n",
    "\n",
    "#Locating and sorting out Age Values into the created Prior Categories \n",
    "purchase_data[\"Age Range\"] = pd.cut(purchase_data.Age, Ages, labels= Group_Names)\n",
    "Purchase_Count_Age = purchase_data[\"Age Range\"].count()\n",
    "Purchase_Count_Age\n",
    "\n",
    "#Executing Basic Calculations for  purchase count, avg. purchase price, avg. purchase total per person\n",
    "Average_Purchase_Age =  round(purchase_data.groupby(\"Age Range\")[\"Price\"].mean(), 2)\n",
    "Average_Purchase_Age = '$' + Average_Purchase_Age.astype(str)\n",
    "Total_Purchase_Age = round(purchase_data.groupby(\"Age Range\")[\"Price\"].sum(), 2)\n",
    "Average_Purchase_Age = round(Total_Purchase_Age/ purchase_data.groupby('Age Range')['SN'].nunique(), 2)\n",
    "Total_Purchase_Age = '$' + Total_Purchase_Age.astype(str)\n",
    "Average_Purchase_Age= '$' + Average_Purchase_Age.astype(str)\n",
    "\n",
    "#Formating the table below\n",
    "Purchase_df_Age = pd.DataFrame({\"Purchase Count\": Purchase_Count_Age , \"Average Purchase Price\" :Average_Purchase_Age,\"Total Purchase Value\": Total_Purchase_Age})\n",
    "\n",
    "Purchase_df_Age.head()"
   ]
  },
  {
   "cell_type": "markdown",
   "metadata": {},
   "source": [
    "## Top Spenders"
   ]
  },
  {
   "cell_type": "markdown",
   "metadata": {},
   "source": [
    "* Run basic calculations to obtain the results in the table below\n",
    "\n",
    "\n",
    "* Create a summary data frame to hold the results\n",
    "\n",
    "\n",
    "* Sort the total purchase value column in descending order\n",
    "\n",
    "\n",
    "* Optional: give the displayed data cleaner formatting\n",
    "\n",
    "\n",
    "* Display a preview of the summary data frame\n",
    "\n"
   ]
  },
  {
   "cell_type": "code",
   "execution_count": 88,
   "metadata": {},
   "outputs": [
    {
     "data": {
      "text/html": [
       "<style  type=\"text/css\" >\n",
       "</style><table id=\"T_71747606_c3bc_11e9_9545_086d41d78b2e\" ><thead>    <tr>        <th class=\"blank level0\" ></th>        <th class=\"col_heading level0 col0\" >Purchase Count</th>        <th class=\"col_heading level0 col1\" >Average Purchase Price</th>        <th class=\"col_heading level0 col2\" >Total Purchase Value</th>    </tr>    <tr>        <th class=\"index_name level0\" >SN</th>        <th class=\"blank\" ></th>        <th class=\"blank\" ></th>        <th class=\"blank\" ></th>    </tr></thead><tbody>\n",
       "                <tr>\n",
       "                        <th id=\"T_71747606_c3bc_11e9_9545_086d41d78b2elevel0_row0\" class=\"row_heading level0 row0\" >Lisosia93</th>\n",
       "                        <td id=\"T_71747606_c3bc_11e9_9545_086d41d78b2erow0_col0\" class=\"data row0 col0\" >5</td>\n",
       "                        <td id=\"T_71747606_c3bc_11e9_9545_086d41d78b2erow0_col1\" class=\"data row0 col1\" >3.79</td>\n",
       "                        <td id=\"T_71747606_c3bc_11e9_9545_086d41d78b2erow0_col2\" class=\"data row0 col2\" >18.96</td>\n",
       "            </tr>\n",
       "            <tr>\n",
       "                        <th id=\"T_71747606_c3bc_11e9_9545_086d41d78b2elevel0_row1\" class=\"row_heading level0 row1\" >Idastidru52</th>\n",
       "                        <td id=\"T_71747606_c3bc_11e9_9545_086d41d78b2erow1_col0\" class=\"data row1 col0\" >4</td>\n",
       "                        <td id=\"T_71747606_c3bc_11e9_9545_086d41d78b2erow1_col1\" class=\"data row1 col1\" >3.86</td>\n",
       "                        <td id=\"T_71747606_c3bc_11e9_9545_086d41d78b2erow1_col2\" class=\"data row1 col2\" >15.45</td>\n",
       "            </tr>\n",
       "            <tr>\n",
       "                        <th id=\"T_71747606_c3bc_11e9_9545_086d41d78b2elevel0_row2\" class=\"row_heading level0 row2\" >Chamjask73</th>\n",
       "                        <td id=\"T_71747606_c3bc_11e9_9545_086d41d78b2erow2_col0\" class=\"data row2 col0\" >3</td>\n",
       "                        <td id=\"T_71747606_c3bc_11e9_9545_086d41d78b2erow2_col1\" class=\"data row2 col1\" >4.61</td>\n",
       "                        <td id=\"T_71747606_c3bc_11e9_9545_086d41d78b2erow2_col2\" class=\"data row2 col2\" >13.83</td>\n",
       "            </tr>\n",
       "            <tr>\n",
       "                        <th id=\"T_71747606_c3bc_11e9_9545_086d41d78b2elevel0_row3\" class=\"row_heading level0 row3\" >Iral74</th>\n",
       "                        <td id=\"T_71747606_c3bc_11e9_9545_086d41d78b2erow3_col0\" class=\"data row3 col0\" >4</td>\n",
       "                        <td id=\"T_71747606_c3bc_11e9_9545_086d41d78b2erow3_col1\" class=\"data row3 col1\" >3.4</td>\n",
       "                        <td id=\"T_71747606_c3bc_11e9_9545_086d41d78b2erow3_col2\" class=\"data row3 col2\" >13.62</td>\n",
       "            </tr>\n",
       "            <tr>\n",
       "                        <th id=\"T_71747606_c3bc_11e9_9545_086d41d78b2elevel0_row4\" class=\"row_heading level0 row4\" >Iskadarya95</th>\n",
       "                        <td id=\"T_71747606_c3bc_11e9_9545_086d41d78b2erow4_col0\" class=\"data row4 col0\" >3</td>\n",
       "                        <td id=\"T_71747606_c3bc_11e9_9545_086d41d78b2erow4_col1\" class=\"data row4 col1\" >4.37</td>\n",
       "                        <td id=\"T_71747606_c3bc_11e9_9545_086d41d78b2erow4_col2\" class=\"data row4 col2\" >13.1</td>\n",
       "            </tr>\n",
       "    </tbody></table>"
      ],
      "text/plain": [
       "<pandas.io.formats.style.Styler at 0x117cd60b8>"
      ]
     },
     "execution_count": 88,
     "metadata": {},
     "output_type": "execute_result"
    }
   ],
   "source": [
    "#Group Purchased by 'SN' in regards to 'Price' $\n",
    "Top_Spender = purchase_data.groupby(\"SN\")[\"Price\"].sum().nlargest(5)\n",
    "Top_Average_Purchase = round(purchase_data.groupby(\"SN\").Price.mean().loc[Top_Spender.index], 2)\n",
    "\n",
    "#Group Non-Purchased by 'SN' in regards to 'Price' $\n",
    "Top_Non_Purchase = purchase_data.groupby(\"SN\").Price.count().loc[Top_Spender.index]\n",
    "Top_df = pd.concat([Top_Non_Purchase, Top_Average_Purchase, Top_Spender], axis=1)\n",
    "\n",
    "#Formatting the bottom Data Frame\n",
    "Top_df.columns = [\"Purchase Count\", \"Average Purchase Price\", \"Total Purchase Value\"]\n",
    "Top_df = Top_df.sort_values(by='Total Purchase Value', ascending=False)\n",
    "Top_df.head().style"
   ]
  },
  {
   "cell_type": "markdown",
   "metadata": {},
   "source": [
    "## Most Popular Items"
   ]
  },
  {
   "cell_type": "markdown",
   "metadata": {},
   "source": [
    "* Retrieve the Item ID, Item Name, and Item Price columns\n",
    "\n",
    "\n",
    "* Group by Item ID and Item Name. Perform calculations to obtain purchase count, item price, and total purchase value\n",
    "\n",
    "\n",
    "* Create a summary data frame to hold the results\n",
    "\n",
    "\n",
    "* Sort the purchase count column in descending order\n",
    "\n",
    "\n",
    "* Optional: give the displayed data cleaner formatting\n",
    "\n",
    "\n",
    "* Display a preview of the summary data frame\n",
    "\n"
   ]
  },
  {
   "cell_type": "code",
   "execution_count": 89,
   "metadata": {},
   "outputs": [
    {
     "data": {
      "text/html": [
       "<div>\n",
       "<style scoped>\n",
       "    .dataframe tbody tr th:only-of-type {\n",
       "        vertical-align: middle;\n",
       "    }\n",
       "\n",
       "    .dataframe tbody tr th {\n",
       "        vertical-align: top;\n",
       "    }\n",
       "\n",
       "    .dataframe thead th {\n",
       "        text-align: right;\n",
       "    }\n",
       "</style>\n",
       "<table border=\"1\" class=\"dataframe\">\n",
       "  <thead>\n",
       "    <tr style=\"text-align: right;\">\n",
       "      <th></th>\n",
       "      <th>Item ID</th>\n",
       "      <th>Item Name</th>\n",
       "      <th>Purchase Count</th>\n",
       "      <th>Item Price</th>\n",
       "      <th>Total Purchase Value</th>\n",
       "    </tr>\n",
       "  </thead>\n",
       "  <tbody>\n",
       "    <tr>\n",
       "      <th>0</th>\n",
       "      <td>178</td>\n",
       "      <td>Oathbreaker, Last Hope of the Breaking Storm</td>\n",
       "      <td>12</td>\n",
       "      <td>4.23</td>\n",
       "      <td>50.76</td>\n",
       "    </tr>\n",
       "    <tr>\n",
       "      <th>1</th>\n",
       "      <td>145</td>\n",
       "      <td>Fiery Glass Crusader</td>\n",
       "      <td>9</td>\n",
       "      <td>4.58</td>\n",
       "      <td>41.22</td>\n",
       "    </tr>\n",
       "    <tr>\n",
       "      <th>2</th>\n",
       "      <td>108</td>\n",
       "      <td>Extraction, Quickblade Of Trembling Hands</td>\n",
       "      <td>9</td>\n",
       "      <td>3.53</td>\n",
       "      <td>31.77</td>\n",
       "    </tr>\n",
       "    <tr>\n",
       "      <th>3</th>\n",
       "      <td>82</td>\n",
       "      <td>Nirvana</td>\n",
       "      <td>9</td>\n",
       "      <td>4.90</td>\n",
       "      <td>44.10</td>\n",
       "    </tr>\n",
       "    <tr>\n",
       "      <th>4</th>\n",
       "      <td>19</td>\n",
       "      <td>Pursuit, Cudgel of Necromancy</td>\n",
       "      <td>8</td>\n",
       "      <td>1.02</td>\n",
       "      <td>8.16</td>\n",
       "    </tr>\n",
       "  </tbody>\n",
       "</table>\n",
       "</div>"
      ],
      "text/plain": [
       "   Item ID                                     Item Name  Purchase Count  \\\n",
       "0      178  Oathbreaker, Last Hope of the Breaking Storm              12   \n",
       "1      145                          Fiery Glass Crusader               9   \n",
       "2      108     Extraction, Quickblade Of Trembling Hands               9   \n",
       "3       82                                       Nirvana               9   \n",
       "4       19                 Pursuit, Cudgel of Necromancy               8   \n",
       "\n",
       "   Item Price  Total Purchase Value  \n",
       "0        4.23                 50.76  \n",
       "1        4.58                 41.22  \n",
       "2        3.53                 31.77  \n",
       "3        4.90                 44.10  \n",
       "4        1.02                  8.16  "
      ]
     },
     "execution_count": 89,
     "metadata": {},
     "output_type": "execute_result"
    }
   ],
   "source": [
    "#Most Popular\n",
    "#Creating a New Data Frame & Grouping them \n",
    "New_df = purchase_data[[\"Item ID\", \"Item Name\", \"Price\"]]\n",
    "\n",
    "New_df_group = New_df.groupby('Item ID')\n",
    "\n",
    "#Get Item Name\n",
    "ItemName = New_df[['Item ID', 'Item Name']]\n",
    "#Get Item Price\n",
    "ItemPrice = New_df[['Item ID', 'Price']]\n",
    "\n",
    "#Get Item Counts\n",
    "ItemCounts = New_df_group.count()\n",
    "#Get Item Sums\n",
    "ItemSums = New_df_group.sum()\n",
    "#Get Top Items\n",
    "ItemCountsBest = ItemCounts.sort_values('Item Name', ascending=False).head()\n",
    "\n",
    "#Clean\n",
    "ItemCountsBest = ItemCountsBest.rename(columns={'Item Name':'Purchase Count'})\n",
    "\n",
    "ItemCountsBest = ItemCountsBest.reset_index()\n",
    "\n",
    "ItemCountsBest = ItemCountsBest[[\"Item ID\", \"Purchase Count\"]]\n",
    "\n",
    "ItemCountData = ItemCountsBest.merge(ItemName, left_on='Item ID', right_on='Item ID')\n",
    "\n",
    "ItemCountData = ItemCountData.merge(ItemPrice, left_on='Item ID', right_on='Item ID')\n",
    "\n",
    "ItemCountData = ItemCountData.merge(ItemSums, left_on='Item ID', right_on='Item ID')\n",
    "\n",
    "ItemCountData = ItemCountData.drop_duplicates(keep='first')\n",
    "\n",
    "ItemCountData = ItemCountData.reset_index()\n",
    "\n",
    "ItemCountData = ItemCountData.rename(columns={'Price_x':'Item Price'})\n",
    "\n",
    "ItemCountData = ItemCountData.rename(columns={'Price_y':'Total Purchase Value'})\n",
    "\n",
    "ItemCountData = ItemCountData[['Item ID', 'Item Name', 'Purchase Count', 'Item Price', 'Total Purchase Value']]\n",
    "\n",
    "#Final Reset\n",
    "ItemCountData\n"
   ]
  },
  {
   "cell_type": "markdown",
   "metadata": {},
   "source": [
    "## Most Profitable Items"
   ]
  },
  {
   "cell_type": "markdown",
   "metadata": {},
   "source": [
    "* Sort the above table by total purchase value in descending order\n",
    "\n",
    "\n",
    "* Optional: give the displayed data cleaner formatting\n",
    "\n",
    "\n",
    "* Display a preview of the data frame\n",
    "\n"
   ]
  },
  {
   "cell_type": "code",
   "execution_count": 90,
   "metadata": {
    "scrolled": true
   },
   "outputs": [
    {
     "data": {
      "text/html": [
       "<div>\n",
       "<style scoped>\n",
       "    .dataframe tbody tr th:only-of-type {\n",
       "        vertical-align: middle;\n",
       "    }\n",
       "\n",
       "    .dataframe tbody tr th {\n",
       "        vertical-align: top;\n",
       "    }\n",
       "\n",
       "    .dataframe thead th {\n",
       "        text-align: right;\n",
       "    }\n",
       "</style>\n",
       "<table border=\"1\" class=\"dataframe\">\n",
       "  <thead>\n",
       "    <tr style=\"text-align: right;\">\n",
       "      <th></th>\n",
       "      <th>Item ID</th>\n",
       "      <th>Item Name</th>\n",
       "      <th>Purchase Count</th>\n",
       "      <th>Item Price</th>\n",
       "      <th>Total Purchase Value</th>\n",
       "    </tr>\n",
       "  </thead>\n",
       "  <tbody>\n",
       "    <tr>\n",
       "      <th>0</th>\n",
       "      <td>178</td>\n",
       "      <td>Oathbreaker, Last Hope of the Breaking Storm</td>\n",
       "      <td>12</td>\n",
       "      <td>4.23</td>\n",
       "      <td>50.76</td>\n",
       "    </tr>\n",
       "    <tr>\n",
       "      <th>1</th>\n",
       "      <td>82</td>\n",
       "      <td>Nirvana</td>\n",
       "      <td>9</td>\n",
       "      <td>4.90</td>\n",
       "      <td>44.10</td>\n",
       "    </tr>\n",
       "    <tr>\n",
       "      <th>2</th>\n",
       "      <td>145</td>\n",
       "      <td>Fiery Glass Crusader</td>\n",
       "      <td>9</td>\n",
       "      <td>4.58</td>\n",
       "      <td>41.22</td>\n",
       "    </tr>\n",
       "    <tr>\n",
       "      <th>3</th>\n",
       "      <td>92</td>\n",
       "      <td>Final Critic</td>\n",
       "      <td>8</td>\n",
       "      <td>4.88</td>\n",
       "      <td>39.04</td>\n",
       "    </tr>\n",
       "    <tr>\n",
       "      <th>4</th>\n",
       "      <td>103</td>\n",
       "      <td>Singed Scalpel</td>\n",
       "      <td>8</td>\n",
       "      <td>4.35</td>\n",
       "      <td>34.80</td>\n",
       "    </tr>\n",
       "  </tbody>\n",
       "</table>\n",
       "</div>"
      ],
      "text/plain": [
       "   Item ID                                     Item Name  Purchase Count  \\\n",
       "0      178  Oathbreaker, Last Hope of the Breaking Storm              12   \n",
       "1       82                                       Nirvana               9   \n",
       "2      145                          Fiery Glass Crusader               9   \n",
       "3       92                                  Final Critic               8   \n",
       "4      103                                Singed Scalpel               8   \n",
       "\n",
       "   Item Price  Total Purchase Value  \n",
       "0        4.23                 50.76  \n",
       "1        4.90                 44.10  \n",
       "2        4.58                 41.22  \n",
       "3        4.88                 39.04  \n",
       "4        4.35                 34.80  "
      ]
     },
     "execution_count": 90,
     "metadata": {},
     "output_type": "execute_result"
    }
   ],
   "source": [
    "#Most Profitable\n",
    "#Creating a New Data Frame & Grouping them \n",
    "New_df = purchase_data[[\"Item ID\", \"Item Name\", \"Price\"]]\n",
    "\n",
    "New_df_group = New_df.groupby('Item ID')\n",
    "\n",
    "#Get Item Name\n",
    "ItemName = New_df[['Item ID', 'Item Name']]\n",
    "#Get Item Price\n",
    "ItemPrice = New_df[['Item ID', 'Price']]\n",
    "\n",
    "#Get Item Counts\n",
    "ItemCounts = New_df_group.count()\n",
    "#Get Item Sums\n",
    "ItemSums = New_df_group.sum()\n",
    "#Get Top Items\n",
    "ItemSumsBest = ItemSums.sort_values('Price', ascending=False).head()\n",
    "\n",
    "#Clean\n",
    "ItemSumsBest = ItemSumsBest.rename(columns={'Price':'Total Purchase Value'})\n",
    "\n",
    "ItemSumsBest = ItemSumsBest.reset_index()\n",
    "\n",
    "ItemSumsBest = ItemSumsBest[[\"Item ID\", \"Total Purchase Value\"]]\n",
    "\n",
    "ItemSumsBest = ItemSumsBest.merge(ItemName, left_on='Item ID', right_on='Item ID')\n",
    "\n",
    "ItemSumsBest = ItemSumsBest.merge(ItemPrice, left_on='Item ID', right_on='Item ID')\n",
    "\n",
    "ItemSumsBest = ItemSumsBest.merge(ItemCounts, left_on='Item ID', right_on='Item ID')\n",
    "\n",
    "ItemSumData = ItemSumsBest.drop_duplicates(keep='first')\n",
    "\n",
    "ItemSumData = ItemSumData.reset_index()\n",
    "\n",
    "ItemSumData = ItemSumData.rename(columns={'Price_x':'Item Price'})\n",
    "\n",
    "ItemSumData = ItemSumData.rename(columns={'Price_y':'Purchase Count'})\n",
    "\n",
    "ItemSumData = ItemSumData.rename(columns={'Item Name_x':'Item Name'})\n",
    "\n",
    "ItemSumData = ItemSumData[['Item ID', 'Item Name', 'Purchase Count', 'Item Price', 'Total Purchase Value']]\n",
    "\n",
    "#Final Reset\n",
    "ItemSumData"
   ]
  },
  {
   "cell_type": "code",
   "execution_count": 91,
   "metadata": {},
   "outputs": [],
   "source": [
    "#1st Observation: The Item that was most purchased at the lowest price and had the highest purchase value is the \"Oathbreaker, Last Hope of the Breaking Storm\"\n",
    "#2nd Observation: The Gender that dominated purchases were Males.\n",
    "#3rd Observation: The Least Age group that purchased games are 40 years of Age and above.\n"
   ]
  },
  {
   "cell_type": "code",
   "execution_count": null,
   "metadata": {},
   "outputs": [],
   "source": []
  }
 ],
 "metadata": {
  "anaconda-cloud": {},
  "kernel_info": {
   "name": "python3"
  },
  "kernelspec": {
   "display_name": "Python 3",
   "language": "python",
   "name": "python3"
  },
  "language_info": {
   "codemirror_mode": {
    "name": "ipython",
    "version": 3
   },
   "file_extension": ".py",
   "mimetype": "text/x-python",
   "name": "python",
   "nbconvert_exporter": "python",
   "pygments_lexer": "ipython3",
   "version": "3.6.8"
  },
  "latex_envs": {
   "LaTeX_envs_menu_present": true,
   "autoclose": false,
   "autocomplete": true,
   "bibliofile": "biblio.bib",
   "cite_by": "apalike",
   "current_citInitial": 1,
   "eqLabelWithNumbers": true,
   "eqNumInitial": 1,
   "hotkeys": {
    "equation": "Ctrl-E",
    "itemize": "Ctrl-I"
   },
   "labels_anchors": false,
   "latex_user_defs": false,
   "report_style_numbering": false,
   "user_envs_cfg": false
  },
  "nteract": {
   "version": "0.2.0"
  }
 },
 "nbformat": 4,
 "nbformat_minor": 2
}
